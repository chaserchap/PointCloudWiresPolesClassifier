{
 "cells": [
  {
   "cell_type": "code",
   "execution_count": 3,
   "metadata": {},
   "outputs": [],
   "source": [
    "import os\n",
    "os.chdir('/home/chapmaca/Projects/pointcloudclassifier')\n",
    "import pandas as pd\n",
    "import numpy as np\n",
    "from sklearn.preprocessing import StandardScaler\n",
    "from sklearn.neighbors import KNeighborsClassifier\n",
    "from sklearn.model_selection import train_test_split"
   ]
  },
  {
   "cell_type": "code",
   "execution_count": 56,
   "metadata": {},
   "outputs": [],
   "source": [
    "data = pd.DataFrame(np.load('data/processed/data_full_w_poles.npy'))\n",
    "wires = [1101, 1102]\n",
    "y = data.label.apply(lambda row: 1 if row in wires else 0)\n",
    "X = data.drop(['X', 'Y', 'Z', 'label', 'conf'], axis=1)"
   ]
  },
  {
   "cell_type": "code",
   "execution_count": 57,
   "metadata": {},
   "outputs": [],
   "source": [
    "X_train, X_test, y_train, y_test = train_test_split(X, y, test_size=0.20)"
   ]
  },
  {
   "cell_type": "code",
   "execution_count": null,
   "metadata": {},
   "outputs": [],
   "source": [
    "clf = KNeighborsClassifier(weights=\"distance\", algorithm=\"auto\")\n",
    "clf.fit(StandardScaler().fit_transform(X_train), y_train)\n",
    "score = clf.score(X_test, y_test)\n",
    "score"
   ]
  },
  {
   "cell_type": "code",
   "execution_count": null,
   "metadata": {},
   "outputs": [],
   "source": [
    "test = clf.predict(X_test)"
   ]
  },
  {
   "cell_type": "code",
   "execution_count": null,
   "metadata": {},
   "outputs": [],
   "source": [
    "from sklearn.metrics import confusion_matrix\n",
    "confusion_matrix(y_test, test)"
   ]
  },
  {
   "cell_type": "code",
   "execution_count": 11,
   "metadata": {},
   "outputs": [
    {
     "data": {
      "text/plain": [
       "['./models/wire_knn_v1.0.joblib']"
      ]
     },
     "execution_count": 11,
     "metadata": {},
     "output_type": "execute_result"
    }
   ],
   "source": [
    "from joblib import dump\n",
    "dump(clf, './models/wire_knn_v1.0.joblib')"
   ]
  },
  {
   "cell_type": "code",
   "execution_count": 25,
   "metadata": {},
   "outputs": [],
   "source": [
    "test_index = X_test.iloc[np.where(test==1)].index\n",
    "wire_points = data.iloc[test_index]"
   ]
  },
  {
   "cell_type": "code",
   "execution_count": 54,
   "metadata": {},
   "outputs": [
    {
     "data": {
      "text/html": [
       "<div>\n",
       "<style scoped>\n",
       "    .dataframe tbody tr th:only-of-type {\n",
       "        vertical-align: middle;\n",
       "    }\n",
       "\n",
       "    .dataframe tbody tr th {\n",
       "        vertical-align: top;\n",
       "    }\n",
       "\n",
       "    .dataframe thead th {\n",
       "        text-align: right;\n",
       "    }\n",
       "</style>\n",
       "<table border=\"1\" class=\"dataframe\">\n",
       "  <thead>\n",
       "    <tr style=\"text-align: right;\">\n",
       "      <th></th>\n",
       "      <th>ClusterID</th>\n",
       "      <th>Linearity</th>\n",
       "      <th>Planarity</th>\n",
       "      <th>Scattering</th>\n",
       "      <th>Verticality</th>\n",
       "      <th>Classification</th>\n",
       "      <th>HeightAboveGround</th>\n",
       "      <th>Eigenvalue0</th>\n",
       "      <th>Eigenvalue1</th>\n",
       "      <th>Eigenvalue2</th>\n",
       "      <th>NormalX</th>\n",
       "      <th>NormalY</th>\n",
       "      <th>NormalZ</th>\n",
       "      <th>Curvature</th>\n",
       "      <th>dist</th>\n",
       "    </tr>\n",
       "  </thead>\n",
       "  <tbody>\n",
       "    <tr>\n",
       "      <th>1414382</th>\n",
       "      <td>2328.0</td>\n",
       "      <td>0.200</td>\n",
       "      <td>0.723</td>\n",
       "      <td>0.077</td>\n",
       "      <td>0.017</td>\n",
       "      <td>2.0</td>\n",
       "      <td>0.00</td>\n",
       "      <td>0.000</td>\n",
       "      <td>0.077</td>\n",
       "      <td>0.106</td>\n",
       "      <td>-0.031</td>\n",
       "      <td>-0.026</td>\n",
       "      <td>0.999</td>\n",
       "      <td>0.002</td>\n",
       "      <td>1.230488</td>\n",
       "    </tr>\n",
       "    <tr>\n",
       "      <th>536827</th>\n",
       "      <td>934.0</td>\n",
       "      <td>0.104</td>\n",
       "      <td>0.765</td>\n",
       "      <td>0.130</td>\n",
       "      <td>0.082</td>\n",
       "      <td>2.0</td>\n",
       "      <td>0.00</td>\n",
       "      <td>0.000</td>\n",
       "      <td>0.003</td>\n",
       "      <td>0.004</td>\n",
       "      <td>-0.054</td>\n",
       "      <td>0.040</td>\n",
       "      <td>0.998</td>\n",
       "      <td>0.004</td>\n",
       "      <td>0.377651</td>\n",
       "    </tr>\n",
       "    <tr>\n",
       "      <th>1139401</th>\n",
       "      <td>684.0</td>\n",
       "      <td>0.363</td>\n",
       "      <td>0.144</td>\n",
       "      <td>0.493</td>\n",
       "      <td>0.554</td>\n",
       "      <td>0.0</td>\n",
       "      <td>15.87</td>\n",
       "      <td>0.000</td>\n",
       "      <td>0.000</td>\n",
       "      <td>0.001</td>\n",
       "      <td>-0.894</td>\n",
       "      <td>0.265</td>\n",
       "      <td>0.360</td>\n",
       "      <td>0.054</td>\n",
       "      <td>0.432292</td>\n",
       "    </tr>\n",
       "    <tr>\n",
       "      <th>296901</th>\n",
       "      <td>1.0</td>\n",
       "      <td>0.351</td>\n",
       "      <td>0.573</td>\n",
       "      <td>0.075</td>\n",
       "      <td>0.115</td>\n",
       "      <td>2.0</td>\n",
       "      <td>0.00</td>\n",
       "      <td>0.001</td>\n",
       "      <td>0.042</td>\n",
       "      <td>0.060</td>\n",
       "      <td>-0.003</td>\n",
       "      <td>0.186</td>\n",
       "      <td>0.982</td>\n",
       "      <td>0.006</td>\n",
       "      <td>0.846174</td>\n",
       "    </tr>\n",
       "    <tr>\n",
       "      <th>1473244</th>\n",
       "      <td>1.0</td>\n",
       "      <td>0.378</td>\n",
       "      <td>0.550</td>\n",
       "      <td>0.071</td>\n",
       "      <td>0.029</td>\n",
       "      <td>2.0</td>\n",
       "      <td>0.00</td>\n",
       "      <td>0.000</td>\n",
       "      <td>0.004</td>\n",
       "      <td>0.008</td>\n",
       "      <td>0.010</td>\n",
       "      <td>0.000</td>\n",
       "      <td>1.000</td>\n",
       "      <td>0.002</td>\n",
       "      <td>1.116993</td>\n",
       "    </tr>\n",
       "  </tbody>\n",
       "</table>\n",
       "</div>"
      ],
      "text/plain": [
       "         ClusterID  Linearity  Planarity  Scattering  Verticality  \\\n",
       "1414382     2328.0      0.200      0.723       0.077        0.017   \n",
       "536827       934.0      0.104      0.765       0.130        0.082   \n",
       "1139401      684.0      0.363      0.144       0.493        0.554   \n",
       "296901         1.0      0.351      0.573       0.075        0.115   \n",
       "1473244        1.0      0.378      0.550       0.071        0.029   \n",
       "\n",
       "         Classification  HeightAboveGround  Eigenvalue0  Eigenvalue1  \\\n",
       "1414382             2.0               0.00        0.000        0.077   \n",
       "536827              2.0               0.00        0.000        0.003   \n",
       "1139401             0.0              15.87        0.000        0.000   \n",
       "296901              2.0               0.00        0.001        0.042   \n",
       "1473244             2.0               0.00        0.000        0.004   \n",
       "\n",
       "         Eigenvalue2  NormalX  NormalY  NormalZ  Curvature      dist  \n",
       "1414382        0.106   -0.031   -0.026    0.999      0.002  1.230488  \n",
       "536827         0.004   -0.054    0.040    0.998      0.004  0.377651  \n",
       "1139401        0.001   -0.894    0.265    0.360      0.054  0.432292  \n",
       "296901         0.060   -0.003    0.186    0.982      0.006  0.846174  \n",
       "1473244        0.008    0.010    0.000    1.000      0.002  1.116993  "
      ]
     },
     "execution_count": 54,
     "metadata": {},
     "output_type": "execute_result"
    }
   ],
   "source": [
    "X_train.head()"
   ]
  },
  {
   "cell_type": "code",
   "execution_count": 42,
   "metadata": {},
   "outputs": [
    {
     "data": {
      "text/plain": [
       "(1211700, 15)"
      ]
     },
     "execution_count": 42,
     "metadata": {},
     "output_type": "execute_result"
    }
   ],
   "source": [
    "X_train.shape"
   ]
  },
  {
   "cell_type": "code",
   "execution_count": null,
   "metadata": {},
   "outputs": [],
   "source": []
  }
 ],
 "metadata": {
  "kernelspec": {
   "display_name": "Python 3",
   "language": "python",
   "name": "python3"
  },
  "language_info": {
   "codemirror_mode": {
    "name": "ipython",
    "version": 3
   },
   "file_extension": ".py",
   "mimetype": "text/x-python",
   "name": "python",
   "nbconvert_exporter": "python",
   "pygments_lexer": "ipython3",
   "version": "3.7.7"
  }
 },
 "nbformat": 4,
 "nbformat_minor": 4
}
