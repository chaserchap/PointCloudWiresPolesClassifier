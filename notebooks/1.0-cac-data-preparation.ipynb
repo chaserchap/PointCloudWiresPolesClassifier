{
 "cells": [
  {
   "cell_type": "code",
   "execution_count": 1,
   "metadata": {},
   "outputs": [],
   "source": [
    "import os\n",
    "os.chdir('/home/chapmaca/Projects/pointcloudclassifier')\n",
    "import sklearn\n",
    "import numpy as np\n",
    "import pandas as pd\n",
    "import references.classifications as classifications"
   ]
  },
  {
   "cell_type": "code",
   "execution_count": null,
   "metadata": {},
   "outputs": [],
   "source": [
    "raw_filepath = './data/raw/training/oakland_part3_an_training.xyz_label_conf'\n",
    "raw_data = pd.read_csv(raw_filepath, sep = ' ',\n",
    "                   header=0, names=['X', 'Y', 'Z', 'label', 'conf'])\n",
    "raw_data.head()"
   ]
  },
  {
   "cell_type": "code",
   "execution_count": null,
   "metadata": {},
   "outputs": [],
   "source": [
    "raw_npy = './data/interim/raw.npy'\n",
    "npdata = raw_data[['X','Y','Z', 'label']].to_records(index=False)\n",
    "np.save(raw_npy, npdata)"
   ]
  },
  {
   "cell_type": "code",
   "execution_count": 20,
   "metadata": {},
   "outputs": [
    {
     "ename": "NameError",
     "evalue": "name 'raw_npy' is not defined",
     "output_type": "error",
     "traceback": [
      "\u001b[0;31m---------------------------------------------------------------------------\u001b[0m",
      "\u001b[0;31mNameError\u001b[0m                                 Traceback (most recent call last)",
      "\u001b[0;32m<ipython-input-20-2f1da16dedeb>\u001b[0m in \u001b[0;36m<module>\u001b[0;34m\u001b[0m\n\u001b[1;32m      1\u001b[0m \u001b[0;32mfrom\u001b[0m \u001b[0msrc\u001b[0m\u001b[0;34m.\u001b[0m\u001b[0mclasses\u001b[0m\u001b[0;34m.\u001b[0m\u001b[0mPDALObject\u001b[0m \u001b[0;32mimport\u001b[0m \u001b[0mPDALObject\u001b[0m\u001b[0;34m\u001b[0m\u001b[0;34m\u001b[0m\u001b[0m\n\u001b[1;32m      2\u001b[0m \u001b[0;32mfrom\u001b[0m \u001b[0mreferences\u001b[0m\u001b[0;34m.\u001b[0m\u001b[0mresources\u001b[0m \u001b[0;32mimport\u001b[0m \u001b[0mtest_pipe\u001b[0m\u001b[0;34m\u001b[0m\u001b[0;34m\u001b[0m\u001b[0m\n\u001b[0;32m----> 3\u001b[0;31m \u001b[0mpo\u001b[0m \u001b[0;34m=\u001b[0m \u001b[0mPDALObject\u001b[0m\u001b[0;34m(\u001b[0m\u001b[0mraw_npy\u001b[0m\u001b[0;34m)\u001b[0m\u001b[0;34m\u001b[0m\u001b[0;34m\u001b[0m\u001b[0m\n\u001b[0m\u001b[1;32m      4\u001b[0m \u001b[0mpo\u001b[0m\u001b[0;34m.\u001b[0m\u001b[0mset_json_pipeline\u001b[0m\u001b[0;34m(\u001b[0m\u001b[0mtest_pipe\u001b[0m\u001b[0;34m)\u001b[0m\u001b[0;34m\u001b[0m\u001b[0;34m\u001b[0m\u001b[0m\n\u001b[1;32m      5\u001b[0m \u001b[0mpole_data\u001b[0m \u001b[0;34m=\u001b[0m \u001b[0;34m'./data/processed/pole_data.txt'\u001b[0m\u001b[0;34m\u001b[0m\u001b[0;34m\u001b[0m\u001b[0m\n",
      "\u001b[0;31mNameError\u001b[0m: name 'raw_npy' is not defined"
     ]
    }
   ],
   "source": [
    "from src.classes.PDALObject import PDALObject\n",
    "from references.resources import test_pipe\n",
    "po = PDALObject(raw_npy)\n",
    "po.set_json_pipeline(test_pipe)\n",
    "pole_data = './data/processed/pole_data.txt'\n",
    "po.outfile = pole_data\n",
    "po.execute()"
   ]
  },
  {
   "cell_type": "code",
   "execution_count": null,
   "metadata": {},
   "outputs": [],
   "source": []
  },
  {
   "cell_type": "code",
   "execution_count": 16,
   "metadata": {},
   "outputs": [],
   "source": []
  },
  {
   "cell_type": "code",
   "execution_count": 10,
   "metadata": {},
   "outputs": [],
   "source": [
    "data = np.load('./data/interim/full.npy')"
   ]
  },
  {
   "cell_type": "code",
   "execution_count": 12,
   "metadata": {},
   "outputs": [],
   "source": [
    "data.dtype.names = ['X', 'Y', 'Z', 'label', 'conf']\n",
    "np.save('./data/interim/full.npy', data)\n"
   ]
  },
  {
   "cell_type": "code",
   "execution_count": 13,
   "metadata": {},
   "outputs": [
    {
     "data": {
      "text/html": [
       "<div>\n",
       "<style scoped>\n",
       "    .dataframe tbody tr th:only-of-type {\n",
       "        vertical-align: middle;\n",
       "    }\n",
       "\n",
       "    .dataframe tbody tr th {\n",
       "        vertical-align: top;\n",
       "    }\n",
       "\n",
       "    .dataframe thead th {\n",
       "        text-align: right;\n",
       "    }\n",
       "</style>\n",
       "<table border=\"1\" class=\"dataframe\">\n",
       "  <thead>\n",
       "    <tr style=\"text-align: right;\">\n",
       "      <th></th>\n",
       "      <th>X</th>\n",
       "      <th>Y</th>\n",
       "      <th>Z</th>\n",
       "      <th>label</th>\n",
       "      <th>conf</th>\n",
       "    </tr>\n",
       "  </thead>\n",
       "  <tbody>\n",
       "    <tr>\n",
       "      <th>0</th>\n",
       "      <td>-385.709991</td>\n",
       "      <td>-90.550003</td>\n",
       "      <td>-11.22</td>\n",
       "      <td>1113</td>\n",
       "      <td>2</td>\n",
       "    </tr>\n",
       "    <tr>\n",
       "      <th>1</th>\n",
       "      <td>-385.809998</td>\n",
       "      <td>-90.250000</td>\n",
       "      <td>-11.58</td>\n",
       "      <td>1113</td>\n",
       "      <td>2</td>\n",
       "    </tr>\n",
       "    <tr>\n",
       "      <th>2</th>\n",
       "      <td>-385.649994</td>\n",
       "      <td>-90.360001</td>\n",
       "      <td>-11.19</td>\n",
       "      <td>1113</td>\n",
       "      <td>2</td>\n",
       "    </tr>\n",
       "    <tr>\n",
       "      <th>3</th>\n",
       "      <td>-385.809998</td>\n",
       "      <td>-90.230003</td>\n",
       "      <td>-10.91</td>\n",
       "      <td>1113</td>\n",
       "      <td>2</td>\n",
       "    </tr>\n",
       "    <tr>\n",
       "      <th>4</th>\n",
       "      <td>-385.529999</td>\n",
       "      <td>-90.220001</td>\n",
       "      <td>-11.57</td>\n",
       "      <td>1113</td>\n",
       "      <td>2</td>\n",
       "    </tr>\n",
       "  </tbody>\n",
       "</table>\n",
       "</div>"
      ],
      "text/plain": [
       "            X          Y      Z  label  conf\n",
       "0 -385.709991 -90.550003 -11.22   1113     2\n",
       "1 -385.809998 -90.250000 -11.58   1113     2\n",
       "2 -385.649994 -90.360001 -11.19   1113     2\n",
       "3 -385.809998 -90.230003 -10.91   1113     2\n",
       "4 -385.529999 -90.220001 -11.57   1113     2"
      ]
     },
     "execution_count": 13,
     "metadata": {},
     "output_type": "execute_result"
    }
   ],
   "source": [
    "df = pd.DataFrame(data)\n",
    "df.head()"
   ]
  },
  {
   "cell_type": "code",
   "execution_count": 21,
   "metadata": {},
   "outputs": [],
   "source": [
    "from src.classes.PDALObject import PDALObject\n",
    "from references.resources import test_pipe\n",
    "po = PDALObject('./data/interim/full.npy')\n",
    "po.set_json_pipeline(test_pipe)\n",
    "\n",
    "po.outfile = './data/processed/pole_data_full.txt'\n",
    "\n",
    "po.execute()"
   ]
  },
  {
   "cell_type": "code",
   "execution_count": 18,
   "metadata": {},
   "outputs": [
    {
     "data": {
      "text/plain": [
       "4459"
      ]
     },
     "execution_count": 18,
     "metadata": {},
     "output_type": "execute_result"
    }
   ],
   "source": [
    "sum(y)"
   ]
  },
  {
   "cell_type": "code",
   "execution_count": null,
   "metadata": {},
   "outputs": [],
   "source": []
  }
 ],
 "metadata": {
  "kernelspec": {
   "display_name": "Python 3",
   "language": "python",
   "name": "python3"
  },
  "language_info": {
   "codemirror_mode": {
    "name": "ipython",
    "version": 3
   },
   "file_extension": ".py",
   "mimetype": "text/x-python",
   "name": "python",
   "nbconvert_exporter": "python",
   "pygments_lexer": "ipython3",
   "version": "3.7.7"
  }
 },
 "nbformat": 4,
 "nbformat_minor": 4
}
