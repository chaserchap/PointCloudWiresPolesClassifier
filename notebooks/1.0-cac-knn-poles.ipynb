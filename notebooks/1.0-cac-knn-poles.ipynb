{
 "cells": [
  {
   "cell_type": "code",
   "execution_count": 2,
   "metadata": {},
   "outputs": [],
   "source": [
    "import os\n",
    "os.chdir('/home/chapmaca/Projects/pointcloudclassifier')\n",
    "import pandas as pd\n",
    "from sklearn.preprocessing import StandardScaler\n",
    "from sklearn.neighbors import KNeighborsClassifier\n",
    "from sklearn.model_selection import train_test_split"
   ]
  },
  {
   "cell_type": "code",
   "execution_count": 3,
   "metadata": {},
   "outputs": [],
   "source": [
    "data = pd.read_csv('./data/processed/pole_data_full.txt')\n",
    "poles = [1110, 1302, 1303]\n",
    "y = data.label.apply(lambda row: 1 if row in poles else 0)\n",
    "X = StandardScaler().fit_transform(data.drop(['X','Y','Z','label','conf'], axis=1))"
   ]
  },
  {
   "cell_type": "code",
   "execution_count": 4,
   "metadata": {},
   "outputs": [],
   "source": [
    "X_train, X_test, y_train, y_test = train_test_split(X, y, test_size=0.20)"
   ]
  },
  {
   "cell_type": "code",
   "execution_count": 9,
   "metadata": {},
   "outputs": [
    {
     "data": {
      "text/plain": [
       "0.9981744656268053"
      ]
     },
     "execution_count": 9,
     "metadata": {},
     "output_type": "execute_result"
    }
   ],
   "source": [
    "clf = KNeighborsClassifier(weights=\"distance\", algorithm=\"auto\")\n",
    "clf.fit(X_train, y_train)\n",
    "score = clf.score(X_test, y_test)\n",
    "score"
   ]
  },
  {
   "cell_type": "code",
   "execution_count": 5,
   "metadata": {},
   "outputs": [
    {
     "data": {
      "text/html": [
       "<div>\n",
       "<style scoped>\n",
       "    .dataframe tbody tr th:only-of-type {\n",
       "        vertical-align: middle;\n",
       "    }\n",
       "\n",
       "    .dataframe tbody tr th {\n",
       "        vertical-align: top;\n",
       "    }\n",
       "\n",
       "    .dataframe thead th {\n",
       "        text-align: right;\n",
       "    }\n",
       "</style>\n",
       "<table border=\"1\" class=\"dataframe\">\n",
       "  <thead>\n",
       "    <tr style=\"text-align: right;\">\n",
       "      <th></th>\n",
       "      <th>X</th>\n",
       "      <th>Y</th>\n",
       "      <th>Z</th>\n",
       "      <th>label</th>\n",
       "      <th>conf</th>\n",
       "      <th>ClusterID</th>\n",
       "      <th>Linearity</th>\n",
       "      <th>Planarity</th>\n",
       "      <th>Scattering</th>\n",
       "      <th>Verticality</th>\n",
       "      <th>Classification</th>\n",
       "      <th>HeightAboveGround</th>\n",
       "      <th>Eigenvalue0</th>\n",
       "      <th>Eigenvalue1</th>\n",
       "      <th>Eigenvalue2</th>\n",
       "      <th>NormalX</th>\n",
       "      <th>NormalY</th>\n",
       "      <th>NormalZ</th>\n",
       "      <th>Curvature</th>\n",
       "    </tr>\n",
       "  </thead>\n",
       "  <tbody>\n",
       "    <tr>\n",
       "      <th>0</th>\n",
       "      <td>-385.71</td>\n",
       "      <td>-90.55</td>\n",
       "      <td>-11.22</td>\n",
       "      <td>1113.0</td>\n",
       "      <td>2.0</td>\n",
       "      <td>1.0</td>\n",
       "      <td>0.365</td>\n",
       "      <td>0.198</td>\n",
       "      <td>0.437</td>\n",
       "      <td>0.736</td>\n",
       "      <td>0.0</td>\n",
       "      <td>0.39</td>\n",
       "      <td>0.034</td>\n",
       "      <td>0.055</td>\n",
       "      <td>0.085</td>\n",
       "      <td>-0.069</td>\n",
       "      <td>-0.790</td>\n",
       "      <td>0.609</td>\n",
       "      <td>0.194</td>\n",
       "    </tr>\n",
       "    <tr>\n",
       "      <th>1</th>\n",
       "      <td>-385.81</td>\n",
       "      <td>-90.25</td>\n",
       "      <td>-11.58</td>\n",
       "      <td>1113.0</td>\n",
       "      <td>2.0</td>\n",
       "      <td>1.0</td>\n",
       "      <td>0.335</td>\n",
       "      <td>0.292</td>\n",
       "      <td>0.372</td>\n",
       "      <td>0.470</td>\n",
       "      <td>2.0</td>\n",
       "      <td>0.00</td>\n",
       "      <td>0.041</td>\n",
       "      <td>0.057</td>\n",
       "      <td>0.085</td>\n",
       "      <td>-0.897</td>\n",
       "      <td>0.012</td>\n",
       "      <td>0.441</td>\n",
       "      <td>0.222</td>\n",
       "    </tr>\n",
       "    <tr>\n",
       "      <th>2</th>\n",
       "      <td>-385.65</td>\n",
       "      <td>-90.36</td>\n",
       "      <td>-11.19</td>\n",
       "      <td>1113.0</td>\n",
       "      <td>2.0</td>\n",
       "      <td>1.0</td>\n",
       "      <td>0.038</td>\n",
       "      <td>0.228</td>\n",
       "      <td>0.734</td>\n",
       "      <td>0.634</td>\n",
       "      <td>0.0</td>\n",
       "      <td>0.38</td>\n",
       "      <td>0.039</td>\n",
       "      <td>0.047</td>\n",
       "      <td>0.084</td>\n",
       "      <td>0.178</td>\n",
       "      <td>-0.790</td>\n",
       "      <td>0.587</td>\n",
       "      <td>0.228</td>\n",
       "    </tr>\n",
       "    <tr>\n",
       "      <th>3</th>\n",
       "      <td>-385.81</td>\n",
       "      <td>-90.23</td>\n",
       "      <td>-10.91</td>\n",
       "      <td>1113.0</td>\n",
       "      <td>2.0</td>\n",
       "      <td>1.0</td>\n",
       "      <td>0.209</td>\n",
       "      <td>0.418</td>\n",
       "      <td>0.372</td>\n",
       "      <td>0.595</td>\n",
       "      <td>0.0</td>\n",
       "      <td>0.67</td>\n",
       "      <td>0.034</td>\n",
       "      <td>0.054</td>\n",
       "      <td>0.077</td>\n",
       "      <td>0.346</td>\n",
       "      <td>-0.263</td>\n",
       "      <td>0.901</td>\n",
       "      <td>0.205</td>\n",
       "    </tr>\n",
       "    <tr>\n",
       "      <th>4</th>\n",
       "      <td>-385.53</td>\n",
       "      <td>-90.22</td>\n",
       "      <td>-11.57</td>\n",
       "      <td>1113.0</td>\n",
       "      <td>2.0</td>\n",
       "      <td>1.0</td>\n",
       "      <td>0.201</td>\n",
       "      <td>0.144</td>\n",
       "      <td>0.655</td>\n",
       "      <td>0.536</td>\n",
       "      <td>2.0</td>\n",
       "      <td>0.00</td>\n",
       "      <td>0.041</td>\n",
       "      <td>0.056</td>\n",
       "      <td>0.112</td>\n",
       "      <td>0.051</td>\n",
       "      <td>0.044</td>\n",
       "      <td>0.998</td>\n",
       "      <td>0.197</td>\n",
       "    </tr>\n",
       "  </tbody>\n",
       "</table>\n",
       "</div>"
      ],
      "text/plain": [
       "        X      Y      Z   label  conf  ClusterID  Linearity  Planarity  \\\n",
       "0 -385.71 -90.55 -11.22  1113.0   2.0        1.0      0.365      0.198   \n",
       "1 -385.81 -90.25 -11.58  1113.0   2.0        1.0      0.335      0.292   \n",
       "2 -385.65 -90.36 -11.19  1113.0   2.0        1.0      0.038      0.228   \n",
       "3 -385.81 -90.23 -10.91  1113.0   2.0        1.0      0.209      0.418   \n",
       "4 -385.53 -90.22 -11.57  1113.0   2.0        1.0      0.201      0.144   \n",
       "\n",
       "   Scattering  Verticality  Classification  HeightAboveGround  Eigenvalue0  \\\n",
       "0       0.437        0.736             0.0               0.39        0.034   \n",
       "1       0.372        0.470             2.0               0.00        0.041   \n",
       "2       0.734        0.634             0.0               0.38        0.039   \n",
       "3       0.372        0.595             0.0               0.67        0.034   \n",
       "4       0.655        0.536             2.0               0.00        0.041   \n",
       "\n",
       "   Eigenvalue1  Eigenvalue2  NormalX  NormalY  NormalZ  Curvature  \n",
       "0        0.055        0.085   -0.069   -0.790    0.609      0.194  \n",
       "1        0.057        0.085   -0.897    0.012    0.441      0.222  \n",
       "2        0.047        0.084    0.178   -0.790    0.587      0.228  \n",
       "3        0.054        0.077    0.346   -0.263    0.901      0.205  \n",
       "4        0.056        0.112    0.051    0.044    0.998      0.197  "
      ]
     },
     "execution_count": 5,
     "metadata": {},
     "output_type": "execute_result"
    }
   ],
   "source": [
    "data.head()\n"
   ]
  },
  {
   "cell_type": "code",
   "execution_count": 11,
   "metadata": {},
   "outputs": [],
   "source": [
    "test = clf.predict(X)"
   ]
  },
  {
   "cell_type": "code",
   "execution_count": 12,
   "metadata": {},
   "outputs": [
    {
     "data": {
      "text/plain": [
       "array([[1510058,     108],\n",
       "       [    447,    4012]])"
      ]
     },
     "execution_count": 12,
     "metadata": {},
     "output_type": "execute_result"
    }
   ],
   "source": [
    "from sklearn.metrics import confusion_matrix\n",
    "confusion_matrix(y, test)"
   ]
  },
  {
   "cell_type": "code",
   "execution_count": 13,
   "metadata": {},
   "outputs": [
    {
     "data": {
      "text/plain": [
       "['./models/pole_knn_v1.0.joblib']"
      ]
     },
     "execution_count": 13,
     "metadata": {},
     "output_type": "execute_result"
    }
   ],
   "source": [
    "from joblib import dump\n",
    "dump(clf, './models/pole_knn_v1.0.joblib')"
   ]
  },
  {
   "cell_type": "code",
   "execution_count": 8,
   "metadata": {},
   "outputs": [
    {
     "name": "stdout",
     "output_type": "stream",
     "text": [
      "X\n",
      "Y\n",
      "Z\n",
      "label\n",
      "conf\n",
      "ClusterID\n",
      "Linearity\n",
      "Planarity\n",
      "Scattering\n",
      "Verticality\n",
      "Classification\n",
      "HeightAboveGround\n",
      "Eigenvalue0\n",
      "Eigenvalue1\n",
      "Eigenvalue2\n",
      "NormalX\n",
      "NormalY\n",
      "NormalZ\n",
      "Curvature\n"
     ]
    }
   ],
   "source": [
    "for col in data.columns:\n",
    "    print(col)"
   ]
  },
  {
   "cell_type": "code",
   "execution_count": null,
   "metadata": {},
   "outputs": [],
   "source": []
  }
 ],
 "metadata": {
  "kernelspec": {
   "display_name": "Python 3",
   "language": "python",
   "name": "python3"
  },
  "language_info": {
   "codemirror_mode": {
    "name": "ipython",
    "version": 3
   },
   "file_extension": ".py",
   "mimetype": "text/x-python",
   "name": "python",
   "nbconvert_exporter": "python",
   "pygments_lexer": "ipython3",
   "version": "3.7.7"
  }
 },
 "nbformat": 4,
 "nbformat_minor": 4
}
