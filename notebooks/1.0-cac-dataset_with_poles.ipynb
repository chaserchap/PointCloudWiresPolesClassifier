{
 "cells": [
  {
   "cell_type": "code",
   "execution_count": 1,
   "metadata": {},
   "outputs": [],
   "source": [
    "import os\n",
    "os.chdir('/home/chapmaca/Projects/pointcloudclassifier')\n",
    "from joblib import dump, load\n",
    "import pandas as pd\n",
    "import pprint\n",
    "from sklearn.preprocessing import StandardScaler\n",
    "from src.tools.pc_tools import dbscan_cluster"
   ]
  },
  {
   "cell_type": "code",
   "execution_count": 2,
   "metadata": {},
   "outputs": [],
   "source": [
    "data = pd.read_csv('./data/processed/pole_data_full.txt')\n",
    "poles = [1110, 1302, 1303]\n",
    "y = data.label.apply(lambda row: 1 if row in poles else 0)\n",
    "X = pd.DataFrame(StandardScaler().fit_transform(data.drop(['X', 'Y', 'Z', 'label','conf'], axis=1)))"
   ]
  },
  {
   "cell_type": "code",
   "execution_count": 3,
   "metadata": {},
   "outputs": [],
   "source": [
    "pole_find = load('./models/pole_knn_v1.0.joblib')"
   ]
  },
  {
   "cell_type": "code",
   "execution_count": 4,
   "metadata": {},
   "outputs": [],
   "source": [
    "poles = pole_find.predict(X)\n",
    "poles = poles.astype(bool)"
   ]
  },
  {
   "cell_type": "code",
   "execution_count": 5,
   "metadata": {},
   "outputs": [
    {
     "name": "stdout",
     "output_type": "stream",
     "text": [
      "Found 20 clusters in the data. With 19 noise points.\n"
     ]
    }
   ],
   "source": [
    "pole_clusters = dbscan_cluster(data[['X', 'Y', 'Z']][poles], eps=15)"
   ]
  },
  {
   "cell_type": "code",
   "execution_count": 6,
   "metadata": {},
   "outputs": [
    {
     "name": "stdout",
     "output_type": "stream",
     "text": [
      "Found 22 clusters in the data. With 0 noise points.\n"
     ]
    }
   ],
   "source": [
    "test = y.astype(bool)\n",
    "test_clusters = dbscan_cluster(data[['X', 'Y', 'Z']][test], eps=15)"
   ]
  },
  {
   "cell_type": "markdown",
   "metadata": {},
   "source": [
    "data.shape()"
   ]
  },
  {
   "cell_type": "code",
   "execution_count": 7,
   "metadata": {},
   "outputs": [],
   "source": [
    "df = pd.DataFrame(range(1, len(data)+1))"
   ]
  },
  {
   "cell_type": "code",
   "execution_count": 8,
   "metadata": {},
   "outputs": [],
   "source": [
    "df['poles'] = -1\n",
    "df['test'] = -1\n",
    "df['test'][test] = test_clusters.labels_\n",
    "df['poles'][poles] = pole_clusters.labels_"
   ]
  },
  {
   "cell_type": "code",
   "execution_count": 9,
   "metadata": {},
   "outputs": [
    {
     "name": "stdout",
     "output_type": "stream",
     "text": [
      "{-1: [],\n",
      " 0: [{0, 13, -1}],\n",
      " 1: [{1, -1}],\n",
      " 2: [{2, -1}],\n",
      " 3: [{5, -1}],\n",
      " 4: [{3, -1}],\n",
      " 5: [{4, -1}],\n",
      " 6: [{6, -1}],\n",
      " 7: [{-1, 7}],\n",
      " 8: [{8, -1}],\n",
      " 9: [{9}],\n",
      " 10: [{10, -1}],\n",
      " 11: [{11, -1}],\n",
      " 12: [{12, -1}],\n",
      " 13: [{14, -1}],\n",
      " 14: [{15}],\n",
      " 15: [{16}],\n",
      " 16: [{18, -1}],\n",
      " 17: [{17, -1}],\n",
      " 18: [{19, 20, -1}],\n",
      " 19: [{21, -1}]}\n"
     ]
    }
   ],
   "source": [
    "#This shows the overlaps of poles...each pole found by the algorithm is a key in the dict\n",
    "#for the entries for each pole a -1 represents pole points that weren't identified (but doesn't count them)\n",
    "#a number >= 0 is a group identified in the test set. This is telling me that we're finding all the poles\n",
    "# would be helpful to know how many poles there are...might be worth investigating at a later time.\n",
    "found = dict()\n",
    "for pole in set(pole_clusters.labels_):\n",
    "    found[pole] = list()\n",
    "    if pole != -1:\n",
    "        found[pole].append(set(df[df['poles']==pole]['test']))\n",
    "pprint.pprint(found)"
   ]
  },
  {
   "cell_type": "code",
   "execution_count": 10,
   "metadata": {},
   "outputs": [],
   "source": [
    "from src.tools.pc_tools import geometric_median, point_to_line_dist"
   ]
  },
  {
   "cell_type": "code",
   "execution_count": 18,
   "metadata": {},
   "outputs": [],
   "source": [
    "from itertools import combinations\n",
    "import numpy as np\n",
    "dists = pd.DataFrame({'save':np.full(len(data), 1000), 'hold':np.full(len(data), 1000)})\n",
    "pole_set = list(set(df['poles']))\n",
    "pole_set.remove(-1)\n",
    "# Find the distance of each point to a line between two identified poles. Of note, need to see if this\n",
    "# is from the line segment or a line stretching into infinity.\n",
    "for i, j in combinations(pole_set, 2):\n",
    "    pt1 = geometric_median(data[df['poles']==i][['X','Y']].to_numpy())\n",
    "    pt2 = geometric_median(data[df['poles']==j][['X','Y']].to_numpy())\n",
    "    dists['hold'] = point_to_line_dist(pt1, pt2, data[['X', 'Y']])\n",
    "    dists['save'] = dists[['save','hold']].min(axis=1)\n",
    "data['pole_dist'] = dists['save']"
   ]
  },
  {
   "cell_type": "code",
   "execution_count": 12,
   "metadata": {},
   "outputs": [],
   "source": [
    "import numpy as np\n",
    "np.save('./data/processed/data_full_w_poles.npy', data.to_records())"
   ]
  },
  {
   "cell_type": "code",
   "execution_count": 13,
   "metadata": {},
   "outputs": [],
   "source": [
    "#None of the following should be needed. I had to fix the column names in the data file.\n",
    "#data = pd.read_csv('./data/processed/pole_data_full.txt')\n",
    "#data.head()"
   ]
  },
  {
   "cell_type": "code",
   "execution_count": 14,
   "metadata": {},
   "outputs": [],
   "source": [
    "#import numpy as np\n",
    "#new = pd.DataFrame(np.load('data/processed/data_full_w_poles.npy'))\n"
   ]
  },
  {
   "cell_type": "code",
   "execution_count": 15,
   "metadata": {},
   "outputs": [],
   "source": [
    "#new.columns = names\n",
    "#new.head()"
   ]
  },
  {
   "cell_type": "code",
   "execution_count": 16,
   "metadata": {},
   "outputs": [],
   "source": [
    "#names = list(data.columns)"
   ]
  },
  {
   "cell_type": "code",
   "execution_count": 17,
   "metadata": {},
   "outputs": [],
   "source": [
    "#names.append(\"pole_dist\")\n",
    "#names"
   ]
  },
  {
   "cell_type": "code",
   "execution_count": null,
   "metadata": {},
   "outputs": [],
   "source": []
  },
  {
   "cell_type": "code",
   "execution_count": null,
   "metadata": {},
   "outputs": [],
   "source": []
  },
  {
   "cell_type": "code",
   "execution_count": null,
   "metadata": {},
   "outputs": [],
   "source": []
  },
  {
   "cell_type": "code",
   "execution_count": null,
   "metadata": {},
   "outputs": [],
   "source": []
  },
  {
   "cell_type": "code",
   "execution_count": null,
   "metadata": {},
   "outputs": [],
   "source": []
  },
  {
   "cell_type": "code",
   "execution_count": null,
   "metadata": {},
   "outputs": [],
   "source": []
  },
  {
   "cell_type": "code",
   "execution_count": null,
   "metadata": {},
   "outputs": [],
   "source": []
  }
 ],
 "metadata": {
  "kernelspec": {
   "display_name": "Python 3",
   "language": "python",
   "name": "python3"
  },
  "language_info": {
   "codemirror_mode": {
    "name": "ipython",
    "version": 3
   },
   "file_extension": ".py",
   "mimetype": "text/x-python",
   "name": "python",
   "nbconvert_exporter": "python",
   "pygments_lexer": "ipython3",
   "version": "3.7.7"
  }
 },
 "nbformat": 4,
 "nbformat_minor": 4
}
