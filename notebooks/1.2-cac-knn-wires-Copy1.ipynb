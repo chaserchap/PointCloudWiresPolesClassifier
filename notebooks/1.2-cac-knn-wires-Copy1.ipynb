{
 "cells": [
  {
   "cell_type": "code",
   "execution_count": 1,
   "metadata": {},
   "outputs": [],
   "source": [
    "import os\n",
    "os.chdir('/home/chapmaca/Projects/pointcloudclassifier')\n",
    "import pandas as pd\n",
    "import numpy as np\n",
    "from sklearn.preprocessing import StandardScaler\n",
    "from sklearn.neighbors import KNeighborsClassifier\n",
    "from sklearn.model_selection import train_test_split"
   ]
  },
  {
   "cell_type": "code",
   "execution_count": 2,
   "metadata": {},
   "outputs": [],
   "source": [
    "data = pd.DataFrame(np.load('data/processed/data_full_w_poles.npy'))\n",
    "wires = [1101, 1102]\n",
    "y = data.label.apply(lambda row: 1 if row in wires else 0)\n",
    "X = data[['Linearity', 'Planarity', 'Scattering', 'Verticality', 'HeightAboveGround', 'Curvature', 'dist']]"
   ]
  },
  {
   "cell_type": "code",
   "execution_count": 3,
   "metadata": {},
   "outputs": [],
   "source": [
    "X_train, X_test, y_train, y_test = train_test_split(X, y, test_size=0.20)"
   ]
  },
  {
   "cell_type": "code",
   "execution_count": 4,
   "metadata": {},
   "outputs": [
    {
     "data": {
      "text/plain": [
       "0.9947412725922258"
      ]
     },
     "execution_count": 4,
     "metadata": {},
     "output_type": "execute_result"
    }
   ],
   "source": [
    "clf = KNeighborsClassifier(weights=\"distance\", algorithm=\"auto\")\n",
    "clf.fit(StandardScaler().fit_transform(X_train), y_train)\n",
    "score = clf.score(X_test, y_test)\n",
    "score"
   ]
  },
  {
   "cell_type": "code",
   "execution_count": 5,
   "metadata": {},
   "outputs": [],
   "source": [
    "test = clf.predict(X_test)"
   ]
  },
  {
   "cell_type": "code",
   "execution_count": 6,
   "metadata": {},
   "outputs": [
    {
     "data": {
      "text/plain": [
       "array([[301332,    183],\n",
       "       [  1410,      0]])"
      ]
     },
     "execution_count": 6,
     "metadata": {},
     "output_type": "execute_result"
    }
   ],
   "source": [
    "from sklearn.metrics import confusion_matrix\n",
    "confusion_matrix(y_test, test)"
   ]
  },
  {
   "cell_type": "code",
   "execution_count": 11,
   "metadata": {},
   "outputs": [
    {
     "data": {
      "text/plain": [
       "['./models/wire_knn_v1.0.joblib']"
      ]
     },
     "execution_count": 11,
     "metadata": {},
     "output_type": "execute_result"
    }
   ],
   "source": [
    "from joblib import dump\n",
    "dump(clf, './models/wire_knn_v1.0.joblib')"
   ]
  },
  {
   "cell_type": "code",
   "execution_count": 25,
   "metadata": {},
   "outputs": [],
   "source": [
    "test_index = X_test.iloc[np.where(test==1)].index\n",
    "wire_points = data.iloc[test_index]"
   ]
  },
  {
   "cell_type": "code",
   "execution_count": 47,
   "metadata": {},
   "outputs": [
    {
     "data": {
      "text/html": [
       "<div>\n",
       "<style scoped>\n",
       "    .dataframe tbody tr th:only-of-type {\n",
       "        vertical-align: middle;\n",
       "    }\n",
       "\n",
       "    .dataframe tbody tr th {\n",
       "        vertical-align: top;\n",
       "    }\n",
       "\n",
       "    .dataframe thead th {\n",
       "        text-align: right;\n",
       "    }\n",
       "</style>\n",
       "<table border=\"1\" class=\"dataframe\">\n",
       "  <thead>\n",
       "    <tr style=\"text-align: right;\">\n",
       "      <th></th>\n",
       "      <th>ClusterID</th>\n",
       "      <th>Linearity</th>\n",
       "      <th>Planarity</th>\n",
       "      <th>Scattering</th>\n",
       "      <th>Verticality</th>\n",
       "      <th>Classification</th>\n",
       "      <th>HeightAboveGround</th>\n",
       "      <th>Eigenvalue0</th>\n",
       "      <th>Eigenvalue1</th>\n",
       "      <th>Eigenvalue2</th>\n",
       "      <th>NormalX</th>\n",
       "      <th>NormalY</th>\n",
       "      <th>NormalZ</th>\n",
       "      <th>Curvature</th>\n",
       "      <th>dist</th>\n",
       "    </tr>\n",
       "  </thead>\n",
       "  <tbody>\n",
       "    <tr>\n",
       "      <th>1414855</th>\n",
       "      <td>1.0</td>\n",
       "      <td>0.237</td>\n",
       "      <td>0.441</td>\n",
       "      <td>0.323</td>\n",
       "      <td>0.606</td>\n",
       "      <td>0.0</td>\n",
       "      <td>2.88</td>\n",
       "      <td>0.005</td>\n",
       "      <td>0.022</td>\n",
       "      <td>0.046</td>\n",
       "      <td>0.275</td>\n",
       "      <td>-0.961</td>\n",
       "      <td>0.013</td>\n",
       "      <td>0.067</td>\n",
       "      <td>2.136565</td>\n",
       "    </tr>\n",
       "    <tr>\n",
       "      <th>1490370</th>\n",
       "      <td>1.0</td>\n",
       "      <td>0.425</td>\n",
       "      <td>0.532</td>\n",
       "      <td>0.043</td>\n",
       "      <td>0.014</td>\n",
       "      <td>2.0</td>\n",
       "      <td>0.00</td>\n",
       "      <td>0.000</td>\n",
       "      <td>0.009</td>\n",
       "      <td>0.015</td>\n",
       "      <td>0.001</td>\n",
       "      <td>0.011</td>\n",
       "      <td>1.000</td>\n",
       "      <td>0.001</td>\n",
       "      <td>1.775513</td>\n",
       "    </tr>\n",
       "    <tr>\n",
       "      <th>421509</th>\n",
       "      <td>189.0</td>\n",
       "      <td>0.167</td>\n",
       "      <td>0.770</td>\n",
       "      <td>0.063</td>\n",
       "      <td>0.087</td>\n",
       "      <td>2.0</td>\n",
       "      <td>0.00</td>\n",
       "      <td>0.000</td>\n",
       "      <td>0.006</td>\n",
       "      <td>0.013</td>\n",
       "      <td>-0.067</td>\n",
       "      <td>-0.131</td>\n",
       "      <td>0.989</td>\n",
       "      <td>0.001</td>\n",
       "      <td>0.665251</td>\n",
       "    </tr>\n",
       "    <tr>\n",
       "      <th>233556</th>\n",
       "      <td>189.0</td>\n",
       "      <td>0.909</td>\n",
       "      <td>0.054</td>\n",
       "      <td>0.038</td>\n",
       "      <td>0.010</td>\n",
       "      <td>0.0</td>\n",
       "      <td>0.07</td>\n",
       "      <td>0.000</td>\n",
       "      <td>0.002</td>\n",
       "      <td>0.003</td>\n",
       "      <td>0.163</td>\n",
       "      <td>0.418</td>\n",
       "      <td>0.894</td>\n",
       "      <td>0.012</td>\n",
       "      <td>1.090305</td>\n",
       "    </tr>\n",
       "    <tr>\n",
       "      <th>853357</th>\n",
       "      <td>189.0</td>\n",
       "      <td>0.285</td>\n",
       "      <td>0.680</td>\n",
       "      <td>0.036</td>\n",
       "      <td>0.021</td>\n",
       "      <td>2.0</td>\n",
       "      <td>0.00</td>\n",
       "      <td>0.000</td>\n",
       "      <td>0.015</td>\n",
       "      <td>0.017</td>\n",
       "      <td>0.005</td>\n",
       "      <td>-0.043</td>\n",
       "      <td>0.999</td>\n",
       "      <td>0.001</td>\n",
       "      <td>0.246134</td>\n",
       "    </tr>\n",
       "  </tbody>\n",
       "</table>\n",
       "</div>"
      ],
      "text/plain": [
       "         ClusterID  Linearity  Planarity  Scattering  Verticality  \\\n",
       "1414855        1.0      0.237      0.441       0.323        0.606   \n",
       "1490370        1.0      0.425      0.532       0.043        0.014   \n",
       "421509       189.0      0.167      0.770       0.063        0.087   \n",
       "233556       189.0      0.909      0.054       0.038        0.010   \n",
       "853357       189.0      0.285      0.680       0.036        0.021   \n",
       "\n",
       "         Classification  HeightAboveGround  Eigenvalue0  Eigenvalue1  \\\n",
       "1414855             0.0               2.88        0.005        0.022   \n",
       "1490370             2.0               0.00        0.000        0.009   \n",
       "421509              2.0               0.00        0.000        0.006   \n",
       "233556              0.0               0.07        0.000        0.002   \n",
       "853357              2.0               0.00        0.000        0.015   \n",
       "\n",
       "         Eigenvalue2  NormalX  NormalY  NormalZ  Curvature      dist  \n",
       "1414855        0.046    0.275   -0.961    0.013      0.067  2.136565  \n",
       "1490370        0.015    0.001    0.011    1.000      0.001  1.775513  \n",
       "421509         0.013   -0.067   -0.131    0.989      0.001  0.665251  \n",
       "233556         0.003    0.163    0.418    0.894      0.012  1.090305  \n",
       "853357         0.017    0.005   -0.043    0.999      0.001  0.246134  "
      ]
     },
     "execution_count": 47,
     "metadata": {},
     "output_type": "execute_result"
    }
   ],
   "source": [
    "X_train.head()"
   ]
  },
  {
   "cell_type": "code",
   "execution_count": 42,
   "metadata": {},
   "outputs": [
    {
     "data": {
      "text/plain": [
       "(1211700, 15)"
      ]
     },
     "execution_count": 42,
     "metadata": {},
     "output_type": "execute_result"
    }
   ],
   "source": [
    "X_train.shape"
   ]
  },
  {
   "cell_type": "code",
   "execution_count": null,
   "metadata": {},
   "outputs": [],
   "source": []
  }
 ],
 "metadata": {
  "kernelspec": {
   "display_name": "Python 3",
   "language": "python",
   "name": "python3"
  },
  "language_info": {
   "codemirror_mode": {
    "name": "ipython",
    "version": 3
   },
   "file_extension": ".py",
   "mimetype": "text/x-python",
   "name": "python",
   "nbconvert_exporter": "python",
   "pygments_lexer": "ipython3",
   "version": "3.7.7"
  }
 },
 "nbformat": 4,
 "nbformat_minor": 4
}
